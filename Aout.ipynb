{
 "cells": [
  {
   "cell_type": "code",
   "execution_count": 1,
   "metadata": {},
   "outputs": [],
   "source": [
    "import pickle\n",
    "import numpy as np\n",
    "import pandas as pd\n",
    "from sklearn.model_selection import train_test_split\n",
    "import matplotlib.pyplot as plt\n",
    "%matplotlib inline\n",
    "import seaborn as sns\n",
    "import warnings\n",
    "warnings.filterwarnings(\"ignore\")\n",
    "from sklearn.preprocessing import LabelEncoder, OneHotEncoder\n",
    "from xgboost import XGBRegressor"
   ]
  },
  {
   "cell_type": "code",
   "execution_count": 2,
   "metadata": {},
   "outputs": [],
   "source": [
    "def mae(pred, true):\n",
    "    return np.mean(np.abs(pred - true))"
   ]
  },
  {
   "cell_type": "code",
   "execution_count": 7,
   "metadata": {},
   "outputs": [],
   "source": [
    "# Main source for the training data\n",
    "DATA_URL = 'https://raw.githubusercontent.com/OxCGRT/covid-policy-tracker/master/data/OxCGRT_latest.csv'\n",
    "# Local file\n",
    "DATA_FILE = \"data/2020-09-30_historical_ip_new.csv\" "
   ]
  },
  {
   "cell_type": "code",
   "execution_count": 21,
   "metadata": {},
   "outputs": [],
   "source": [
    "# Main source for the training data\n",
    "DATA_URL2 = 'https://raw.githubusercontent.com/OxCGRT/covid-policy-tracker/master/data/OxCGRT_latest.csv'\n",
    "# Local file\n",
    "DATA_FILE2 = 'data/OxCGRT_latest.csv'"
   ]
  },
  {
   "cell_type": "code",
   "execution_count": 22,
   "metadata": {},
   "outputs": [],
   "source": [
    "df = pd.read_csv(DATA_FILE2, \n",
    "                 parse_dates=['Date'],\n",
    "                 encoding=\"ISO-8859-1\",\n",
    "                 dtype={\"RegionName\": str,\n",
    "                        \"RegionCode\": str},\n",
    "                 error_bad_lines=False)"
   ]
  },
  {
   "cell_type": "code",
   "execution_count": 23,
   "metadata": {},
   "outputs": [],
   "source": [
    "HYPOTHETICAL_SUBMISSION_DATE = np.datetime64(\"2020-07-31\")\n",
    "df = df[df.Date <= HYPOTHETICAL_SUBMISSION_DATE]\n",
    "df['GeoID'] = df['CountryName'] + '__' + df['RegionName'].astype(str)\n",
    "df['NewCases'] = df.groupby('GeoID').ConfirmedCases.diff().fillna(0)"
   ]
  },
  {
   "cell_type": "code",
   "execution_count": 8,
   "metadata": {},
   "outputs": [
    {
     "data": {
      "text/plain": [
       "('data/2020-09-30_historical_ip_new.csv',\n",
       " <http.client.HTTPMessage at 0x7f2dc96b50d0>)"
      ]
     },
     "execution_count": 8,
     "metadata": {},
     "output_type": "execute_result"
    }
   ],
   "source": [
    "import os\n",
    "import urllib.request\n",
    "if not os.path.exists('data'):\n",
    "    os.mkdir('data')\n",
    "urllib.request.urlretrieve(DATA_URL, DATA_FILE)"
   ]
  },
  {
   "cell_type": "code",
   "execution_count": 9,
   "metadata": {},
   "outputs": [],
   "source": [
    "dftest = pd.read_csv(DATA_FILE, \n",
    "                 parse_dates=['Date'],\n",
    "                 encoding=\"ISO-8859-1\",\n",
    "                 dtype={\"RegionName\": str,\n",
    "                        \"RegionCode\": str},\n",
    "                 error_bad_lines=False)"
   ]
  },
  {
   "cell_type": "code",
   "execution_count": 10,
   "metadata": {},
   "outputs": [],
   "source": [
    "dftest = dftest[dftest.Date >= np.datetime64(\"2020-07-02\")]\n",
    "dftest = dftest[dftest.Date <= np.datetime64(\"2020-08-31\")]"
   ]
  },
  {
   "cell_type": "code",
   "execution_count": 11,
   "metadata": {},
   "outputs": [],
   "source": [
    "dftest['GeoID'] = dftest['CountryName'] + '__' + dftest['RegionName'].astype(str)"
   ]
  },
  {
   "cell_type": "code",
   "execution_count": 12,
   "metadata": {},
   "outputs": [],
   "source": [
    "dftest['NewCases'] = dftest.groupby('GeoID').ConfirmedCases.diff().fillna(0)"
   ]
  },
  {
   "cell_type": "code",
   "execution_count": 13,
   "metadata": {},
   "outputs": [],
   "source": [
    "id_cols = ['CountryName',\n",
    "           'RegionName',\n",
    "           'GeoID',\n",
    "           'Date']\n",
    "cases_col = ['NewCases']\n",
    "npi_cols=['C1_School closing',\n",
    "       'C2_Workplace closing','C3_Cancel public events',\n",
    "       'C4_Restrictions on gatherings', 'C5_Close public transport',\n",
    "       'C6_Stay at home requirements', \n",
    "       'C7_Restrictions on internal movement', \n",
    "       'H2_Testing policy',\n",
    "       'H6_Facial Coverings', 'ConfirmedCases',\n",
    "       'GovernmentResponseIndex', \n",
    "       'EconomicSupportIndex']\n",
    "dftest = dftest[id_cols + cases_col + npi_cols]"
   ]
  },
  {
   "cell_type": "code",
   "execution_count": 14,
   "metadata": {},
   "outputs": [],
   "source": [
    "dftest.update(dftest.groupby('GeoID').NewCases.apply(\n",
    "    lambda group: group.interpolate()).fillna(0))\n",
    "for npi_col in npi_cols:\n",
    "    dftest.update(dftest.groupby('GeoID')[npi_col].ffill().fillna(0))"
   ]
  },
  {
   "cell_type": "code",
   "execution_count": 24,
   "metadata": {},
   "outputs": [],
   "source": [
    "# Set number of past days to use to make predictions\n",
    "nb_lookback_days = 30\n",
    "\n",
    "# Create training data across all countries for predicting one day ahead\n",
    "X_cols = cases_col + npi_cols\n",
    "y_col = cases_col\n",
    "X_samples = []\n",
    "y_samples = []\n",
    "geo_ids = dftest.GeoID.unique()\n",
    "for g in geo_ids:\n",
    "    gdf = dftest[dftest.GeoID == g]\n",
    "    all_case_data = np.array(gdf[cases_col])\n",
    "    all_npi_data = np.array(gdf[npi_cols])\n",
    "\n",
    "    # Create one sample for each day where we have enough data\n",
    "    # Each sample consists of cases and npis for previous nb_lookback_days\n",
    "    nb_total_days = len(gdf)\n",
    "    for d in range(nb_lookback_days, nb_total_days - 1):\n",
    "        X_cases = all_case_data[d-nb_lookback_days:d]\n",
    "\n",
    "        # Take negative of npis to support positive\n",
    "        # weight constraint in Lasso.\n",
    "        X_npis = -all_npi_data[d - nb_lookback_days:d]\n",
    "\n",
    "        # Flatten all input data so it fits Lasso input format.\n",
    "        X_sample = np.concatenate([X_cases.flatten(),\n",
    "                                   X_npis.flatten()])\n",
    "        y_sample = all_case_data[d + 1]\n",
    "        X_samples.append(X_sample)\n",
    "        y_samples.append(y_sample)\n",
    "\n",
    "X_samples = np.array(X_samples)\n",
    "y_samples = np.array(y_samples).flatten()"
   ]
  },
  {
   "cell_type": "code",
   "execution_count": 25,
   "metadata": {},
   "outputs": [],
   "source": [
    "df = df[id_cols + cases_col + npi_cols]"
   ]
  },
  {
   "cell_type": "code",
   "execution_count": 27,
   "metadata": {},
   "outputs": [],
   "source": [
    "df.update(df.groupby('GeoID').NewCases.apply(\n",
    "    lambda group: group.interpolate()).fillna(0))\n",
    "for npi_col in npi_cols:\n",
    "    df.update(df.groupby('GeoID')[npi_col].ffill().fillna(0))"
   ]
  },
  {
   "cell_type": "code",
   "execution_count": 29,
   "metadata": {},
   "outputs": [],
   "source": [
    "# Set number of past days to use to make predictions\n",
    "nb_lookback_days = 30\n",
    "\n",
    "# Create training data across all countries for predicting one day ahead\n",
    "X_cols = cases_col + npi_cols\n",
    "y_col = cases_col\n",
    "X_samples2 = []\n",
    "y_samples2 = []\n",
    "geo_ids = df.GeoID.unique()\n",
    "for g in geo_ids:\n",
    "    gdf = df[df.GeoID == g]\n",
    "    all_case_data = np.array(gdf[cases_col])\n",
    "    all_npi_data = np.array(gdf[npi_cols])\n",
    "\n",
    "    # Create one sample for each day where we have enough data\n",
    "    # Each sample consists of cases and npis for previous nb_lookback_days\n",
    "    nb_total_days = len(gdf)\n",
    "    for d in range(nb_lookback_days, nb_total_days - 1):\n",
    "        X_cases = all_case_data[d-nb_lookback_days:d]\n",
    "\n",
    "        # Take negative of npis to support positive\n",
    "        # weight constraint in Lasso.\n",
    "        X_npis = -all_npi_data[d - nb_lookback_days:d]\n",
    "\n",
    "        # Flatten all input data so it fits Lasso input format.\n",
    "        X_sample = np.concatenate([X_cases.flatten(),\n",
    "                                   X_npis.flatten()])\n",
    "        y_sample = all_case_data[d + 1]\n",
    "        X_samples2.append(X_sample)\n",
    "        y_samples2.append(y_sample)\n",
    "\n",
    "X_samples2 = np.array(X_samples2)\n",
    "y_samples2 = np.array(y_samples2).flatten()"
   ]
  },
  {
   "cell_type": "code",
   "execution_count": 32,
   "metadata": {},
   "outputs": [
    {
     "data": {
      "text/plain": [
       "(7950, 390)"
      ]
     },
     "execution_count": 32,
     "metadata": {},
     "output_type": "execute_result"
    }
   ],
   "source": [
    "X_samples.shape"
   ]
  },
  {
   "cell_type": "code",
   "execution_count": 34,
   "metadata": {},
   "outputs": [],
   "source": [
    "X_train, X_test, y_train, y_test = train_test_split(X_samples2,\n",
    "                                                    y_samples2,\n",
    "                                                    test_size=0.2,\n",
    "                                                    random_state=301)"
   ]
  },
  {
   "cell_type": "code",
   "execution_count": 42,
   "metadata": {},
   "outputs": [
    {
     "name": "stdout",
     "output_type": "stream",
     "text": [
      "[16:24:32] WARNING: ../src/learner.cc:516: \n",
      "Parameters: { silent } might not be used.\n",
      "\n",
      "  This may not be accurate due to some parameters are only used in language bindings but\n",
      "  passed down to XGBoost core.  Or some parameters are not used but slip through this\n",
      "  verification. Please open an issue if you find above cases.\n",
      "\n",
      "\n"
     ]
    },
    {
     "data": {
      "text/plain": [
       "XGBRegressor(base_score=0.5, booster='gbtree', colsample_bylevel=1,\n",
       "             colsample_bynode=1, colsample_bytree=1, gamma=0, gpu_id=-1,\n",
       "             importance_type='gain', interaction_constraints='',\n",
       "             learning_rate=0.75, max_delta_step=0, max_depth=4,\n",
       "             min_child_weight=1, missing=nan, monotone_constraints='()',\n",
       "             n_estimators=200, n_jobs=0, num_parallel_tree=1, random_state=0,\n",
       "             reg_alpha=0, reg_lambda=2, scale_pos_weight=1, silent=0,\n",
       "             subsample=0.9, tree_method='exact', validate_parameters=1,\n",
       "             verbosity=None)"
      ]
     },
     "execution_count": 42,
     "metadata": {},
     "output_type": "execute_result"
    }
   ],
   "source": [
    "from xgboost import XGBRegressor\n",
    "model = XGBRegressor(n_estimators=200, max_depth=4, learning_rate=.75, reg_lambda=2, reg_alpha=0,silent=0, subsample = .9)\n",
    "model.fit(X_train, y_train)"
   ]
  },
  {
   "cell_type": "code",
   "execution_count": 43,
   "metadata": {},
   "outputs": [
    {
     "name": "stdout",
     "output_type": "stream",
     "text": [
      "Train MAE: 47.27653791643285\n",
      "Test MAE: 144.66691271072474\n"
     ]
    }
   ],
   "source": [
    "train_preds = model.predict(X_train)\n",
    "train_preds = np.maximum(train_preds, 0) # Don't predict negative cases\n",
    "print('Train MAE:', mae(train_preds, y_train))\n",
    "\n",
    "test_preds = model.predict(X_test)\n",
    "test_preds = np.maximum(test_preds, 0) # Don't predict negative cases\n",
    "print('Test MAE:', mae(test_preds, y_test))"
   ]
  },
  {
   "cell_type": "code",
   "execution_count": 48,
   "metadata": {},
   "outputs": [],
   "source": [
    "test=model.predict(X_samples)"
   ]
  },
  {
   "cell_type": "code",
   "execution_count": 49,
   "metadata": {},
   "outputs": [
    {
     "data": {
      "text/plain": [
       "(7950,)"
      ]
     },
     "execution_count": 49,
     "metadata": {},
     "output_type": "execute_result"
    }
   ],
   "source": [
    "test.shape"
   ]
  },
  {
   "cell_type": "code",
   "execution_count": 50,
   "metadata": {},
   "outputs": [],
   "source": [
    "# Set number of past days to use to make predictions\n",
    "nb_lookback_days = 30\n",
    "\n",
    "# Create training data across all countries for predicting one day ahead\n",
    "X_cols = cases_col + npi_cols\n",
    "y_col = cases_col\n",
    "X_samples2 = []\n",
    "y_samples2 = []\n",
    "geo_ids = df.GeoID.unique()"
   ]
  },
  {
   "cell_type": "code",
   "execution_count": 51,
   "metadata": {},
   "outputs": [],
   "source": [
    "Date=[\"01\",\"02\",\"03\",\"04\",\"05\",\"06\",\"07\",\"08\",\"09\"]+[str(i) for i in range(10,32)]"
   ]
  },
  {
   "cell_type": "code",
   "execution_count": 76,
   "metadata": {},
   "outputs": [],
   "source": [
    "predictor = pd.DataFrame(columns=['CountryName','RegionName','GeoID','Date','PredictedDailyNewCases','UID'])"
   ]
  },
  {
   "cell_type": "code",
   "execution_count": 77,
   "metadata": {},
   "outputs": [],
   "source": [
    "n=0\n",
    "day=\"2020-08-\"\n",
    "for g in geo_ids:\n",
    "    pays=g.split(\"__\")[0]\n",
    "    region=g.split(\"__\")[1]\n",
    "    for i in range(31):\n",
    "        predictor.loc[n]=[pays,region,g,day+Date[i],test[i],g+day+Date[i]]\n",
    "        n+=1"
   ]
  },
  {
   "cell_type": "code",
   "execution_count": 82,
   "metadata": {},
   "outputs": [],
   "source": [
    "predictor.to_csv(\"prediction2.csv\" , index = False)"
   ]
  },
  {
   "cell_type": "code",
   "execution_count": 83,
   "metadata": {},
   "outputs": [
    {
     "data": {
      "text/html": [
       "<div>\n",
       "<style scoped>\n",
       "    .dataframe tbody tr th:only-of-type {\n",
       "        vertical-align: middle;\n",
       "    }\n",
       "\n",
       "    .dataframe tbody tr th {\n",
       "        vertical-align: top;\n",
       "    }\n",
       "\n",
       "    .dataframe thead th {\n",
       "        text-align: right;\n",
       "    }\n",
       "</style>\n",
       "<table border=\"1\" class=\"dataframe\">\n",
       "  <thead>\n",
       "    <tr style=\"text-align: right;\">\n",
       "      <th></th>\n",
       "      <th>CountryName</th>\n",
       "      <th>RegionName</th>\n",
       "      <th>GeoID</th>\n",
       "      <th>Date</th>\n",
       "      <th>PredictedDailyNewCases</th>\n",
       "      <th>UID</th>\n",
       "    </tr>\n",
       "  </thead>\n",
       "  <tbody>\n",
       "    <tr>\n",
       "      <th>2635</th>\n",
       "      <td>France</td>\n",
       "      <td>nan</td>\n",
       "      <td>France__nan</td>\n",
       "      <td>2020-08-01</td>\n",
       "      <td>1.027055</td>\n",
       "      <td>France__nan2020-08-01</td>\n",
       "    </tr>\n",
       "    <tr>\n",
       "      <th>2636</th>\n",
       "      <td>France</td>\n",
       "      <td>nan</td>\n",
       "      <td>France__nan</td>\n",
       "      <td>2020-08-02</td>\n",
       "      <td>1.027055</td>\n",
       "      <td>France__nan2020-08-02</td>\n",
       "    </tr>\n",
       "    <tr>\n",
       "      <th>2637</th>\n",
       "      <td>France</td>\n",
       "      <td>nan</td>\n",
       "      <td>France__nan</td>\n",
       "      <td>2020-08-03</td>\n",
       "      <td>1.027055</td>\n",
       "      <td>France__nan2020-08-03</td>\n",
       "    </tr>\n",
       "    <tr>\n",
       "      <th>2638</th>\n",
       "      <td>France</td>\n",
       "      <td>nan</td>\n",
       "      <td>France__nan</td>\n",
       "      <td>2020-08-04</td>\n",
       "      <td>1.027055</td>\n",
       "      <td>France__nan2020-08-04</td>\n",
       "    </tr>\n",
       "    <tr>\n",
       "      <th>2639</th>\n",
       "      <td>France</td>\n",
       "      <td>nan</td>\n",
       "      <td>France__nan</td>\n",
       "      <td>2020-08-05</td>\n",
       "      <td>1.027055</td>\n",
       "      <td>France__nan2020-08-05</td>\n",
       "    </tr>\n",
       "    <tr>\n",
       "      <th>2640</th>\n",
       "      <td>France</td>\n",
       "      <td>nan</td>\n",
       "      <td>France__nan</td>\n",
       "      <td>2020-08-06</td>\n",
       "      <td>1.027055</td>\n",
       "      <td>France__nan2020-08-06</td>\n",
       "    </tr>\n",
       "    <tr>\n",
       "      <th>2641</th>\n",
       "      <td>France</td>\n",
       "      <td>nan</td>\n",
       "      <td>France__nan</td>\n",
       "      <td>2020-08-07</td>\n",
       "      <td>1.027055</td>\n",
       "      <td>France__nan2020-08-07</td>\n",
       "    </tr>\n",
       "    <tr>\n",
       "      <th>2642</th>\n",
       "      <td>France</td>\n",
       "      <td>nan</td>\n",
       "      <td>France__nan</td>\n",
       "      <td>2020-08-08</td>\n",
       "      <td>27.986950</td>\n",
       "      <td>France__nan2020-08-08</td>\n",
       "    </tr>\n",
       "    <tr>\n",
       "      <th>2643</th>\n",
       "      <td>France</td>\n",
       "      <td>nan</td>\n",
       "      <td>France__nan</td>\n",
       "      <td>2020-08-09</td>\n",
       "      <td>71.930817</td>\n",
       "      <td>France__nan2020-08-09</td>\n",
       "    </tr>\n",
       "    <tr>\n",
       "      <th>2644</th>\n",
       "      <td>France</td>\n",
       "      <td>nan</td>\n",
       "      <td>France__nan</td>\n",
       "      <td>2020-08-10</td>\n",
       "      <td>72.343468</td>\n",
       "      <td>France__nan2020-08-10</td>\n",
       "    </tr>\n",
       "    <tr>\n",
       "      <th>2645</th>\n",
       "      <td>France</td>\n",
       "      <td>nan</td>\n",
       "      <td>France__nan</td>\n",
       "      <td>2020-08-11</td>\n",
       "      <td>101.251160</td>\n",
       "      <td>France__nan2020-08-11</td>\n",
       "    </tr>\n",
       "    <tr>\n",
       "      <th>2646</th>\n",
       "      <td>France</td>\n",
       "      <td>nan</td>\n",
       "      <td>France__nan</td>\n",
       "      <td>2020-08-12</td>\n",
       "      <td>53.212017</td>\n",
       "      <td>France__nan2020-08-12</td>\n",
       "    </tr>\n",
       "    <tr>\n",
       "      <th>2647</th>\n",
       "      <td>France</td>\n",
       "      <td>nan</td>\n",
       "      <td>France__nan</td>\n",
       "      <td>2020-08-13</td>\n",
       "      <td>101.193314</td>\n",
       "      <td>France__nan2020-08-13</td>\n",
       "    </tr>\n",
       "    <tr>\n",
       "      <th>2648</th>\n",
       "      <td>France</td>\n",
       "      <td>nan</td>\n",
       "      <td>France__nan</td>\n",
       "      <td>2020-08-14</td>\n",
       "      <td>114.913269</td>\n",
       "      <td>France__nan2020-08-14</td>\n",
       "    </tr>\n",
       "    <tr>\n",
       "      <th>2649</th>\n",
       "      <td>France</td>\n",
       "      <td>nan</td>\n",
       "      <td>France__nan</td>\n",
       "      <td>2020-08-15</td>\n",
       "      <td>129.764679</td>\n",
       "      <td>France__nan2020-08-15</td>\n",
       "    </tr>\n",
       "    <tr>\n",
       "      <th>2650</th>\n",
       "      <td>France</td>\n",
       "      <td>nan</td>\n",
       "      <td>France__nan</td>\n",
       "      <td>2020-08-16</td>\n",
       "      <td>128.413971</td>\n",
       "      <td>France__nan2020-08-16</td>\n",
       "    </tr>\n",
       "    <tr>\n",
       "      <th>2651</th>\n",
       "      <td>France</td>\n",
       "      <td>nan</td>\n",
       "      <td>France__nan</td>\n",
       "      <td>2020-08-17</td>\n",
       "      <td>118.200035</td>\n",
       "      <td>France__nan2020-08-17</td>\n",
       "    </tr>\n",
       "    <tr>\n",
       "      <th>2652</th>\n",
       "      <td>France</td>\n",
       "      <td>nan</td>\n",
       "      <td>France__nan</td>\n",
       "      <td>2020-08-18</td>\n",
       "      <td>118.200035</td>\n",
       "      <td>France__nan2020-08-18</td>\n",
       "    </tr>\n",
       "    <tr>\n",
       "      <th>2653</th>\n",
       "      <td>France</td>\n",
       "      <td>nan</td>\n",
       "      <td>France__nan</td>\n",
       "      <td>2020-08-19</td>\n",
       "      <td>105.207130</td>\n",
       "      <td>France__nan2020-08-19</td>\n",
       "    </tr>\n",
       "    <tr>\n",
       "      <th>2654</th>\n",
       "      <td>France</td>\n",
       "      <td>nan</td>\n",
       "      <td>France__nan</td>\n",
       "      <td>2020-08-20</td>\n",
       "      <td>104.947502</td>\n",
       "      <td>France__nan2020-08-20</td>\n",
       "    </tr>\n",
       "    <tr>\n",
       "      <th>2655</th>\n",
       "      <td>France</td>\n",
       "      <td>nan</td>\n",
       "      <td>France__nan</td>\n",
       "      <td>2020-08-21</td>\n",
       "      <td>92.505043</td>\n",
       "      <td>France__nan2020-08-21</td>\n",
       "    </tr>\n",
       "    <tr>\n",
       "      <th>2656</th>\n",
       "      <td>France</td>\n",
       "      <td>nan</td>\n",
       "      <td>France__nan</td>\n",
       "      <td>2020-08-22</td>\n",
       "      <td>92.083954</td>\n",
       "      <td>France__nan2020-08-22</td>\n",
       "    </tr>\n",
       "    <tr>\n",
       "      <th>2657</th>\n",
       "      <td>France</td>\n",
       "      <td>nan</td>\n",
       "      <td>France__nan</td>\n",
       "      <td>2020-08-23</td>\n",
       "      <td>79.245155</td>\n",
       "      <td>France__nan2020-08-23</td>\n",
       "    </tr>\n",
       "    <tr>\n",
       "      <th>2658</th>\n",
       "      <td>France</td>\n",
       "      <td>nan</td>\n",
       "      <td>France__nan</td>\n",
       "      <td>2020-08-24</td>\n",
       "      <td>79.424347</td>\n",
       "      <td>France__nan2020-08-24</td>\n",
       "    </tr>\n",
       "    <tr>\n",
       "      <th>2659</th>\n",
       "      <td>France</td>\n",
       "      <td>nan</td>\n",
       "      <td>France__nan</td>\n",
       "      <td>2020-08-25</td>\n",
       "      <td>66.614471</td>\n",
       "      <td>France__nan2020-08-25</td>\n",
       "    </tr>\n",
       "    <tr>\n",
       "      <th>2660</th>\n",
       "      <td>France</td>\n",
       "      <td>nan</td>\n",
       "      <td>France__nan</td>\n",
       "      <td>2020-08-26</td>\n",
       "      <td>150.491043</td>\n",
       "      <td>France__nan2020-08-26</td>\n",
       "    </tr>\n",
       "    <tr>\n",
       "      <th>2661</th>\n",
       "      <td>France</td>\n",
       "      <td>nan</td>\n",
       "      <td>France__nan</td>\n",
       "      <td>2020-08-27</td>\n",
       "      <td>76.274422</td>\n",
       "      <td>France__nan2020-08-27</td>\n",
       "    </tr>\n",
       "    <tr>\n",
       "      <th>2662</th>\n",
       "      <td>France</td>\n",
       "      <td>nan</td>\n",
       "      <td>France__nan</td>\n",
       "      <td>2020-08-28</td>\n",
       "      <td>69.618797</td>\n",
       "      <td>France__nan2020-08-28</td>\n",
       "    </tr>\n",
       "    <tr>\n",
       "      <th>2663</th>\n",
       "      <td>France</td>\n",
       "      <td>nan</td>\n",
       "      <td>France__nan</td>\n",
       "      <td>2020-08-29</td>\n",
       "      <td>58.901489</td>\n",
       "      <td>France__nan2020-08-29</td>\n",
       "    </tr>\n",
       "    <tr>\n",
       "      <th>2664</th>\n",
       "      <td>France</td>\n",
       "      <td>nan</td>\n",
       "      <td>France__nan</td>\n",
       "      <td>2020-08-30</td>\n",
       "      <td>57.666950</td>\n",
       "      <td>France__nan2020-08-30</td>\n",
       "    </tr>\n",
       "    <tr>\n",
       "      <th>2665</th>\n",
       "      <td>France</td>\n",
       "      <td>nan</td>\n",
       "      <td>France__nan</td>\n",
       "      <td>2020-08-31</td>\n",
       "      <td>94.716858</td>\n",
       "      <td>France__nan2020-08-31</td>\n",
       "    </tr>\n",
       "  </tbody>\n",
       "</table>\n",
       "</div>"
      ],
      "text/plain": [
       "     CountryName RegionName        GeoID        Date  PredictedDailyNewCases  \\\n",
       "2635      France        nan  France__nan  2020-08-01                1.027055   \n",
       "2636      France        nan  France__nan  2020-08-02                1.027055   \n",
       "2637      France        nan  France__nan  2020-08-03                1.027055   \n",
       "2638      France        nan  France__nan  2020-08-04                1.027055   \n",
       "2639      France        nan  France__nan  2020-08-05                1.027055   \n",
       "2640      France        nan  France__nan  2020-08-06                1.027055   \n",
       "2641      France        nan  France__nan  2020-08-07                1.027055   \n",
       "2642      France        nan  France__nan  2020-08-08               27.986950   \n",
       "2643      France        nan  France__nan  2020-08-09               71.930817   \n",
       "2644      France        nan  France__nan  2020-08-10               72.343468   \n",
       "2645      France        nan  France__nan  2020-08-11              101.251160   \n",
       "2646      France        nan  France__nan  2020-08-12               53.212017   \n",
       "2647      France        nan  France__nan  2020-08-13              101.193314   \n",
       "2648      France        nan  France__nan  2020-08-14              114.913269   \n",
       "2649      France        nan  France__nan  2020-08-15              129.764679   \n",
       "2650      France        nan  France__nan  2020-08-16              128.413971   \n",
       "2651      France        nan  France__nan  2020-08-17              118.200035   \n",
       "2652      France        nan  France__nan  2020-08-18              118.200035   \n",
       "2653      France        nan  France__nan  2020-08-19              105.207130   \n",
       "2654      France        nan  France__nan  2020-08-20              104.947502   \n",
       "2655      France        nan  France__nan  2020-08-21               92.505043   \n",
       "2656      France        nan  France__nan  2020-08-22               92.083954   \n",
       "2657      France        nan  France__nan  2020-08-23               79.245155   \n",
       "2658      France        nan  France__nan  2020-08-24               79.424347   \n",
       "2659      France        nan  France__nan  2020-08-25               66.614471   \n",
       "2660      France        nan  France__nan  2020-08-26              150.491043   \n",
       "2661      France        nan  France__nan  2020-08-27               76.274422   \n",
       "2662      France        nan  France__nan  2020-08-28               69.618797   \n",
       "2663      France        nan  France__nan  2020-08-29               58.901489   \n",
       "2664      France        nan  France__nan  2020-08-30               57.666950   \n",
       "2665      France        nan  France__nan  2020-08-31               94.716858   \n",
       "\n",
       "                        UID  \n",
       "2635  France__nan2020-08-01  \n",
       "2636  France__nan2020-08-02  \n",
       "2637  France__nan2020-08-03  \n",
       "2638  France__nan2020-08-04  \n",
       "2639  France__nan2020-08-05  \n",
       "2640  France__nan2020-08-06  \n",
       "2641  France__nan2020-08-07  \n",
       "2642  France__nan2020-08-08  \n",
       "2643  France__nan2020-08-09  \n",
       "2644  France__nan2020-08-10  \n",
       "2645  France__nan2020-08-11  \n",
       "2646  France__nan2020-08-12  \n",
       "2647  France__nan2020-08-13  \n",
       "2648  France__nan2020-08-14  \n",
       "2649  France__nan2020-08-15  \n",
       "2650  France__nan2020-08-16  \n",
       "2651  France__nan2020-08-17  \n",
       "2652  France__nan2020-08-18  \n",
       "2653  France__nan2020-08-19  \n",
       "2654  France__nan2020-08-20  \n",
       "2655  France__nan2020-08-21  \n",
       "2656  France__nan2020-08-22  \n",
       "2657  France__nan2020-08-23  \n",
       "2658  France__nan2020-08-24  \n",
       "2659  France__nan2020-08-25  \n",
       "2660  France__nan2020-08-26  \n",
       "2661  France__nan2020-08-27  \n",
       "2662  France__nan2020-08-28  \n",
       "2663  France__nan2020-08-29  \n",
       "2664  France__nan2020-08-30  \n",
       "2665  France__nan2020-08-31  "
      ]
     },
     "execution_count": 83,
     "metadata": {},
     "output_type": "execute_result"
    }
   ],
   "source": [
    "predictor[predictor['CountryName']=='France']"
   ]
  },
  {
   "cell_type": "code",
   "execution_count": null,
   "metadata": {},
   "outputs": [],
   "source": []
  }
 ],
 "metadata": {
  "kernelspec": {
   "display_name": "Python 3",
   "language": "python",
   "name": "python3"
  },
  "language_info": {
   "codemirror_mode": {
    "name": "ipython",
    "version": 3
   },
   "file_extension": ".py",
   "mimetype": "text/x-python",
   "name": "python",
   "nbconvert_exporter": "python",
   "pygments_lexer": "ipython3",
   "version": "3.8.5"
  }
 },
 "nbformat": 4,
 "nbformat_minor": 4
}
